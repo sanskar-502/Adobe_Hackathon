{
 "cells": [
  {
   "cell_type": "code",
   "execution_count": 1,
   "id": "9f8b255f-0089-4a84-ac3d-47504625ae99",
   "metadata": {},
   "outputs": [],
   "source": [
    "# Cell 1: Imports\n",
    "import json\n",
    "from pathlib import Path\n",
    "import random"
   ]
  },
  {
   "cell_type": "code",
   "execution_count": 3,
   "id": "18ac9c97-91fd-4408-9793-31288bdd934d",
   "metadata": {},
   "outputs": [],
   "source": [
    "# Cell 2: Configs\n",
    "SPAN_LOG_FILE = Path(\"logs/spans.jsonl\")\n",
    "TRAIN_OUTPUT_FILE = Path(\"sample_dataset/train/train.jsonl\")\n",
    "LABELS = [\"H1\", \"H2\", \"NONE\"]"
   ]
  },
  {
   "cell_type": "code",
   "execution_count": 5,
   "id": "7b5d93db-6d30-4a9f-9e18-f293a272f7ce",
   "metadata": {},
   "outputs": [
    {
     "name": "stdout",
     "output_type": "stream",
     "text": [
      "Loaded 409 unique spans for labeling.\n"
     ]
    }
   ],
   "source": [
    "# Cell 3: Load all spans\n",
    "with open(SPAN_LOG_FILE, \"r\", encoding=\"utf-8\") as f:\n",
    "    all_spans = [json.loads(line) for line in f]\n",
    "\n",
    "# Remove duplicates\n",
    "seen = set()\n",
    "unique_spans = []\n",
    "for span in all_spans:\n",
    "    key = (span[\"text\"], span[\"page\"])\n",
    "    if key not in seen:\n",
    "        seen.add(key)\n",
    "        unique_spans.append(span)\n",
    "\n",
    "# Shuffle for random labeling\n",
    "random.shuffle(unique_spans)\n",
    "print(f\"Loaded {len(unique_spans)} unique spans for labeling.\")"
   ]
  },
  {
   "cell_type": "code",
   "execution_count": 7,
   "id": "f8a5ffe2-bcde-4094-b833-b66c170eefc2",
   "metadata": {},
   "outputs": [
    {
     "data": {
      "application/vnd.jupyter.widget-view+json": {
       "model_id": "48200f59cf5a40f8be1efcbfe07e7a72",
       "version_major": 2,
       "version_minor": 0
      },
      "text/plain": [
       "interactive(children=(Dropdown(description='label', options=('H1', 'H2', 'NONE'), value='H1'), Button(descript…"
      ]
     },
     "metadata": {},
     "output_type": "display_data"
    }
   ],
   "source": [
    "# Cell 4: Define interactive labeling loop\n",
    "from IPython.display import display, HTML\n",
    "from ipywidgets import interact_manual, Dropdown\n",
    "\n",
    "idx = 0\n",
    "labeled_data = []\n",
    "\n",
    "def label_span(label):\n",
    "    global idx\n",
    "    if idx >= len(unique_spans):\n",
    "        print(\"✅ All spans labeled.\")\n",
    "        return\n",
    "    span = unique_spans[idx]\n",
    "    span[\"label\"] = label\n",
    "    labeled_data.append(span)\n",
    "    idx += 1\n",
    "\n",
    "@interact_manual(label=Dropdown(options=LABELS))\n",
    "def start_labeling(label=\"NONE\"):\n",
    "    span = unique_spans[idx]\n",
    "    display(HTML(f\"\"\"\n",
    "        <h4>PDF Page: {span['page']}</h4>\n",
    "        <pre style=\"font-size: 16px; background:#f4f4f4; padding:10px;\">{span['text']}</pre>\n",
    "        <p><b>Font Size:</b> {span['font_size']} | \n",
    "           <b>Bold:</b> {span['is_bold']} | \n",
    "           <b>All Caps:</b> {span['is_all_caps']} | \n",
    "           <b>Centered:</b> {span['x_centered']:.2f}\n",
    "        </p>\n",
    "    \"\"\"))\n",
    "    label_span(label)"
   ]
  },
  {
   "cell_type": "code",
   "execution_count": 9,
   "id": "49aebf53-a410-4f61-8db9-ba71b980edd7",
   "metadata": {},
   "outputs": [
    {
     "name": "stdout",
     "output_type": "stream",
     "text": [
      "✅ Saved 0 labeled spans to: sample_dataset\\train\\train.jsonl\n"
     ]
    }
   ],
   "source": [
    "# Cell 5: Save labeled data to JSONL\n",
    "def save_labeled():\n",
    "    TRAIN_OUTPUT_FILE.parent.mkdir(exist_ok=True, parents=True)\n",
    "    with open(TRAIN_OUTPUT_FILE, \"w\", encoding=\"utf-8\") as f:\n",
    "        for row in labeled_data:\n",
    "            json.dump(row, f)\n",
    "            f.write(\"\\n\")\n",
    "    print(f\"✅ Saved {len(labeled_data)} labeled spans to: {TRAIN_OUTPUT_FILE}\")\n",
    "\n",
    "save_labeled()"
   ]
  },
  {
   "cell_type": "code",
   "execution_count": null,
   "id": "9d9034db-8ae2-4e12-b69b-18e932904570",
   "metadata": {},
   "outputs": [],
   "source": []
  }
 ],
 "metadata": {
  "kernelspec": {
   "display_name": "Python [conda env:base] *",
   "language": "python",
   "name": "conda-base-py"
  },
  "language_info": {
   "codemirror_mode": {
    "name": "ipython",
    "version": 3
   },
   "file_extension": ".py",
   "mimetype": "text/x-python",
   "name": "python",
   "nbconvert_exporter": "python",
   "pygments_lexer": "ipython3",
   "version": "3.12.7"
  }
 },
 "nbformat": 4,
 "nbformat_minor": 5
}
